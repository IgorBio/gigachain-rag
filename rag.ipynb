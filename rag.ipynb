{
 "cells": [
  {
   "cell_type": "code",
   "execution_count": 6,
   "metadata": {},
   "outputs": [],
   "source": [
    "import warnings\n",
    "warnings.filterwarnings(\"ignore\")\n",
    "\n",
    "from config import auth"
   ]
  },
  {
   "cell_type": "code",
   "execution_count": 83,
   "metadata": {},
   "outputs": [],
   "source": [
    "from langchain_community.chat_models.gigachat import GigaChat\n",
    "\n",
    "chat = GigaChat(\n",
    "    credentials=auth,\n",
    "    model=\"GigaChat:latest\",\n",
    "    verify_ssl_certs=False\n",
    ")"
   ]
  },
  {
   "cell_type": "code",
   "execution_count": 84,
   "metadata": {},
   "outputs": [],
   "source": [
    "from langchain_text_splitters import RecursiveCharacterTextSplitter\n",
    "\n",
    "text_splitter = RecursiveCharacterTextSplitter(\n",
    "    chunk_size=2000,\n",
    "    chunk_overlap=20,\n",
    "    length_function=len,\n",
    "    is_separator_regex=False\n",
    ")"
   ]
  },
  {
   "cell_type": "code",
   "execution_count": 85,
   "metadata": {},
   "outputs": [],
   "source": [
    "from langchain_community.document_loaders import PyPDFLoader\n",
    "\n",
    "loader = PyPDFLoader('python_basics.pdf')\n",
    "splitted_data = loader.load_and_split(text_splitter)"
   ]
  },
  {
   "cell_type": "code",
   "execution_count": 86,
   "metadata": {},
   "outputs": [
    {
     "data": {
      "text/plain": [
       "97"
      ]
     },
     "execution_count": 86,
     "metadata": {},
     "output_type": "execute_result"
    }
   ],
   "source": [
    "len(splitted_data)"
   ]
  },
  {
   "cell_type": "markdown",
   "metadata": {},
   "source": [
    "https://github.com/avidale/encodechka"
   ]
  },
  {
   "cell_type": "code",
   "execution_count": 13,
   "metadata": {},
   "outputs": [],
   "source": [
    "from langchain_community.embeddings import HuggingFaceEmbeddings\n",
    "\n",
    "model = \"BAAI/bge-m3\"\n",
    "embedding = HuggingFaceEmbeddings(model_name=model)"
   ]
  },
  {
   "cell_type": "code",
   "execution_count": 87,
   "metadata": {},
   "outputs": [],
   "source": [
    "from langchain_chroma import Chroma\n",
    "\n",
    "vector_store = Chroma.from_documents(splitted_data, embedding=embedding, persist_directory=\"./chroma\")\n",
    "# vector_store = Chroma(persist_directory=\"./chroma\", embedding_function=embedding)"
   ]
  },
  {
   "cell_type": "code",
   "execution_count": 111,
   "metadata": {},
   "outputs": [
    {
     "data": {
      "text/plain": [
       "'Карта встроенных типов (с именами функций для приведения  \\nк нужному типу и именами классов для наследования от этих типов): \\n1. Специальн\\nые тип\\nы: None, NotIm\\nplemented и Ell\\nipsis; \\n2. Чис\\nла:'"
      ]
     },
     "execution_count": 111,
     "metadata": {},
     "output_type": "execute_result"
    }
   ],
   "source": [
    "vector_store.similarity_search(\"Специальные типы\", k=3)[0].page_content"
   ]
  },
  {
   "cell_type": "code",
   "execution_count": 91,
   "metadata": {},
   "outputs": [],
   "source": [
    "embedding_retriever = vector_store.as_retriever(search_kwargs={\"k\": 3})"
   ]
  },
  {
   "cell_type": "code",
   "execution_count": 130,
   "metadata": {},
   "outputs": [],
   "source": [
    "system_prompt = \"\"\"\n",
    "Ты работаешь как интеллектуальная система, которая создает тесты на основе предоставленных учебных материалов. Твои задачи:\n",
    "1. Генерировать вопрос по содержанию предоставленных текстов.\n",
    "2. Создать четыре варианта ответа на вопрос, где один из них правильный, а остальные три - неправильные, но правдоподобные.\n",
    "3. Указывать правильный ответ для каждого вопроса.\n",
    "\n",
    "### Пример:\n",
    "\n",
    "**Текст:**\n",
    "Python - это высокоуровневый язык программирования, который используется для различных типов программирования, включая веб-разработку, автоматизацию и анализ данных.\n",
    "\n",
    "**Вопрос:**\n",
    "Какой язык программирования используется для веб-разработки, автоматизации и анализа данных?\n",
    "\n",
    "**Варианты ответа:**\n",
    "A) Java\n",
    "B) C++\n",
    "C) Python\n",
    "D) JavaScript\n",
    "\n",
    "**Правильный ответ:**\n",
    "C) Python\n",
    "\n",
    "### Формат:\n",
    "\n",
    "**Текст:**\n",
    "{context}\n",
    "\n",
    "**Вопрос:**\n",
    "<сгенерированный вопрос>\n",
    "\n",
    "**Варианты ответа:**\n",
    "A) <вариант ответа 1>\n",
    "B) <вариант ответа 2>\n",
    "C) <вариант ответа 3>\n",
    "D) <вариант ответа 4>\n",
    "\n",
    "**Правильный ответ:**\n",
    "<правильный вариант ответа>\n",
    "\"\"\""
   ]
  },
  {
   "cell_type": "code",
   "execution_count": 131,
   "metadata": {},
   "outputs": [],
   "source": [
    "from langchain_core.prompts import ChatPromptTemplate\n",
    "\n",
    "prompt = ChatPromptTemplate.from_template(system_prompt)"
   ]
  },
  {
   "cell_type": "code",
   "execution_count": 139,
   "metadata": {},
   "outputs": [],
   "source": [
    "prompt = ChatPromptTemplate.from_template('''Создай вопрос и 4 варианта ответов на основе запроса пользователя. \\\n",
    "1. Сформулируй вопрос, основанный на предоставленном контексте. \\\n",
    "2. Придумай 4 варианта ответа, один из которых правильный, а остальные три - неправильные, но правдоподобные. \\\n",
    "3. Укажи правильный ответ. \\\n",
    "Используй при этом только информацию из контекста. Если в контексте нет \\\n",
    "информации для ответа, сообщи об этом пользователю.\n",
    "Контекст: {context}\n",
    "Вопрос: {input}\n",
    "Ответ:'''\n",
    ")"
   ]
  },
  {
   "cell_type": "code",
   "execution_count": 140,
   "metadata": {},
   "outputs": [],
   "source": [
    "from langchain.chains.combine_documents import create_stuff_documents_chain\n",
    "\n",
    "document_chain = create_stuff_documents_chain(\n",
    "    llm=chat,\n",
    "    prompt=prompt\n",
    ")"
   ]
  },
  {
   "cell_type": "code",
   "execution_count": 141,
   "metadata": {},
   "outputs": [],
   "source": [
    "from langchain.chains import create_retrieval_chain\n",
    "\n",
    "retrieval_chain = create_retrieval_chain(embedding_retriever, document_chain)"
   ]
  },
  {
   "cell_type": "code",
   "execution_count": 143,
   "metadata": {},
   "outputs": [
    {
     "data": {
      "text/plain": [
       "{'input': 'Напиши вопрос и варианты ответов по теме Типы данных',\n",
       " 'context': [Document(metadata={'page': 9, 'source': 'python_basics.pdf'}, page_content='функции type(). \\n \\n2.1. Тип int и long \\nДва типа: int (целые числа) и long (целые произвольной точн о-\\nсти) – служат моделью для представления целых чисел. Первый соо т-'),\n",
       "  Document(metadata={'page': 20, 'source': 'python_basics.pdf'}, page_content='ний. Для удобства функции можно условно разделить на следующие \\nкатегории:  \\n \\nКатего\\nрия Функ\\nции \\n1 2 \\nФунк\\nции преобразования  \\nтипо\\nв и классы  coerce, str, repr, int, \\nlist,tup\\nle,lon\\ng,flo'),\n",
       "  Document(metadata={'page': 23, 'source': 'python_basics.pdf'}, page_content='типов данных. В старых версиях Python для преобразования к ну ж-\\nному типу использовалась одноименная функция. В новых версиях \\nPython роль таких функций играют имена встроенных классов (одн а-')],\n",
       " 'answer': 'Вопрос: Какие два типа данных служат моделью для представления целых чисел?\\nВарианты ответов:\\n1. int и long\\n2. float и long\\n3. int и float\\n4. long и float'}"
      ]
     },
     "execution_count": 143,
     "metadata": {},
     "output_type": "execute_result"
    }
   ],
   "source": [
    "retrieval_chain.invoke({'input': 'Напиши вопрос и варианты ответов по теме Типы данных'})"
   ]
  },
  {
   "cell_type": "code",
   "execution_count": 117,
   "metadata": {},
   "outputs": [],
   "source": [
    "system_prompt = \"\"\"\n",
    "Ты - помощник по созданию тестов. Твоя задача - генерировать вопросы теста на основе учебных материалов. Для каждого вопроса ты должен:\n",
    "1. Сформулировать вопрос, основанный на предоставленном тексте.\n",
    "2. Придумать 4 варианта ответа, один из которых правильный, а остальные три - неправильные, но правдоподобные.\n",
    "3. Указать правильный ответ.\n",
    "\"\"\""
   ]
  },
  {
   "cell_type": "code",
   "execution_count": 118,
   "metadata": {},
   "outputs": [],
   "source": [
    "content = '''\n",
    "Встроенные типы данных в Python\n",
    "Питон работает с двумя категориями данных – встроенными типами (они поддерживаются по умолчанию) и специализированными (для операций с ними нужно подключение определенного модуля). К специализированным типам данных относятся, например, datetime (дата и время) и deque (двухсторонняя очередь).\n",
    "\n",
    "Все встроенные типы данных в Python можно разделить на следующие группы:\n",
    "\n",
    "Числовые – целые, вещественные, комплексные числа. Примечание: для максимально точных расчетов с десятичными числами в Python используют модуль decimal (тип данных Decimal), а для операций с рациональными числами (дробями) – модуль fractions (тип данных Fraction).\n",
    "Булевы – логические значения True (истина) и False (ложь).\n",
    "Строковые – последовательности символов в кодировке Unicode.\n",
    "NoneType – нейтральное пустое значение, аналогичное null в других языках программирования.\n",
    "Последовательности – списки, кортежи, диапазоны.\n",
    "Словари – структура данных типа «ключ: значение».\n",
    "Множества – контейнеры, содержащие уникальные значения. Подразделяются на изменяемые set и неизменяемые frozenset множества.\n",
    "Байтовые типы – bytes (байты), bytearray(изменяемая байтовая строка), memoryview(предоставление доступа к внутренним данным объекта).\n",
    "'''"
   ]
  },
  {
   "cell_type": "code",
   "execution_count": 119,
   "metadata": {},
   "outputs": [
    {
     "data": {
      "text/plain": [
       "'Встроенные типы данных в Python включают:\\n\\n1. Числовые типы:\\n   - int (целые числа)\\n   - float (вещественные числа)\\n   - complex (комплексные числа)\\n\\n2. Булевы типы:\\n   - bool (логические значения True или False)\\n\\n3. Строковые типы:\\n   - str (строки символов в кодировке Unicode)\\n\\n4. Тип NoneType:\\n   - None (нейтральное пустое значение)\\n\\n5. Последовательности:\\n   - list (списки)\\n   - tuple (кортежи)\\n   - range (диапазоны)\\n\\n6. Словари:\\n   - dict (структура данных \"ключ: значение\")\\n\\n7. Множества:\\n   - set (изменяемое множество)\\n   - frozenset (неизменяемое множество)\\n\\n8. Байтовые типы:\\n   - bytes (байты)\\n   - bytearray (изменяемая байтовая строка)\\n   - memoryview (предоставление доступа к внутренним данным объекта)'"
      ]
     },
     "execution_count": 119,
     "metadata": {},
     "output_type": "execute_result"
    }
   ],
   "source": [
    "from langchain.schema import HumanMessage, SystemMessage\n",
    "\n",
    "msgs = [\n",
    "    SystemMessage(content=content)\n",
    "]\n",
    "\n",
    "answer = chat(messages=msgs, prompt=system_prompt)\n",
    "answer.content"
   ]
  },
  {
   "cell_type": "code",
   "execution_count": null,
   "metadata": {},
   "outputs": [],
   "source": []
  }
 ],
 "metadata": {
  "kernelspec": {
   "display_name": ".venv",
   "language": "python",
   "name": "python3"
  },
  "language_info": {
   "codemirror_mode": {
    "name": "ipython",
    "version": 3
   },
   "file_extension": ".py",
   "mimetype": "text/x-python",
   "name": "python",
   "nbconvert_exporter": "python",
   "pygments_lexer": "ipython3",
   "version": "3.10.12"
  }
 },
 "nbformat": 4,
 "nbformat_minor": 2
}
